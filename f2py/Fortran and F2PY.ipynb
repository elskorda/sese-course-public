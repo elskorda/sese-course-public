{
 "cells": [
  {
   "cell_type": "markdown",
   "metadata": {},
   "source": [
    "# Integrating Fortran in Python"
   ]
  },
  {
   "cell_type": "markdown",
   "metadata": {},
   "source": [
    "* External code can be linked into Python using extension modules \n",
    "* Extension modules in Python uses a C Python API\n",
    "* Can be used as normal Python modules\n",
    "* Implementing a Python extension module is hard..."
   ]
  },
  {
   "cell_type": "markdown",
   "metadata": {},
   "source": [
    "```C\n",
    "#include \"Python.h\"\n",
    "\n",
    "// The calculation function\n",
    "\n",
    "static PyObject* sum(PyObject *self, PyObject *args)\n",
    "{\n",
    "    double a;\n",
    "    double b;\n",
    "\n",
    "    // Parse input arguments\n",
    "\n",
    "    if (!PyArg_ParseTuple(args, \"dd\", &a, &b)) \n",
    "        return NULL;\n",
    "\n",
    "    // Do our computation\n",
    "\n",
    "    double c = a + b;\n",
    "\n",
    "    // Return the results\n",
    "\n",
    "    return Py_BuildValue(\"d\", c);\n",
    "}\n",
    "\n",
    "// Module function table.\n",
    "\n",
    "static PyMethodDef\n",
    "module_functions[] = {\n",
    "    { \"sum\", sum, METH_VARARGS, \"Calculate sum.\" },\n",
    "    { NULL }\n",
    "};\n",
    "\n",
    "// Module initialisation\n",
    "\n",
    "void\n",
    "initcext(void)\n",
    "{\n",
    "    Py_InitModule3(\"cext\", module_functions, \"A minimal module.\");\n",
    "}\n",
    "```"
   ]
  },
  {
   "cell_type": "markdown",
   "metadata": {},
   "source": [
    "# There is an easier way - F2PY"
   ]
  },
  {
   "cell_type": "markdown",
   "metadata": {},
   "source": [
    "* F2PY translates Fortran code and creates Python extension code\n",
    "* Automatically passes Numpy Arrays as Fortran arrays\n",
    "* Command line tool - Compiles and links modules automatically\n",
    "* Hard to debug - Make sure existing code works before use"
   ]
  },
  {
   "cell_type": "markdown",
   "metadata": {},
   "source": [
    "# Example 1 - simple.f90"
   ]
  },
  {
   "cell_type": "markdown",
   "metadata": {},
   "source": [
    "```fortran\n",
    "subroutine simple(a,b,c)\n",
    "\n",
    "\treal, intent(in) :: a, b\n",
    "\treal, intent(out) :: c\n",
    "\n",
    "\tc = a + b\n",
    "\n",
    "end subroutine simple\n",
    "```"
   ]
  },
  {
   "cell_type": "markdown",
   "metadata": {},
   "source": [
    " Convert Fortran code to Python extension module using f2py"
   ]
  },
  {
   "cell_type": "code",
   "execution_count": 17,
   "metadata": {},
   "outputs": [
    {
     "name": "stdout",
     "output_type": "stream",
     "text": [
      "\u001b[39mrunning build\u001b[0m\n",
      "\u001b[39mrunning config_cc\u001b[0m\n",
      "\u001b[39munifing config_cc, config, build_clib, build_ext, build commands --compiler options\u001b[0m\n",
      "\u001b[39mrunning config_fc\u001b[0m\n",
      "\u001b[39munifing config_fc, config, build_clib, build_ext, build commands --fcompiler options\u001b[0m\n",
      "\u001b[39mrunning build_src\u001b[0m\n",
      "\u001b[39mbuild_src\u001b[0m\n",
      "\u001b[39mbuilding extension \"simple\" sources\u001b[0m\n",
      "\u001b[39mf2py options: []\u001b[0m\n",
      "\u001b[39mf2py:> /tmp/tmpjghwrek6/src.linux-x86_64-3.6/simplemodule.c\u001b[0m\n",
      "\u001b[39mcreating /tmp/tmpjghwrek6/src.linux-x86_64-3.6\u001b[0m\n",
      "Reading fortran codes...\n",
      "\tReading file 'simple.f90' (format:free)\n",
      "Post-processing...\n",
      "\tBlock: simple\n",
      "\t\t\tBlock: simple\n",
      "Post-processing (stage 2)...\n",
      "Building modules...\n",
      "\tBuilding module \"simple\"...\n",
      "\t\tConstructing wrapper function \"simple\"...\n",
      "\t\t  c = simple(a,b)\n",
      "\tWrote C/API module \"simple\" to file \"/tmp/tmpjghwrek6/src.linux-x86_64-3.6/simplemodule.c\"\n",
      "\u001b[39m  adding '/tmp/tmpjghwrek6/src.linux-x86_64-3.6/fortranobject.c' to sources.\u001b[0m\n",
      "\u001b[39m  adding '/tmp/tmpjghwrek6/src.linux-x86_64-3.6' to include_dirs.\u001b[0m\n",
      "\u001b[39mcopying /sw/pkg/anaconda/anaconda3-4.4.0/lib/python3.6/site-packages/numpy/f2py/src/fortranobject.c -> /tmp/tmpjghwrek6/src.linux-x86_64-3.6\u001b[0m\n",
      "\u001b[39mcopying /sw/pkg/anaconda/anaconda3-4.4.0/lib/python3.6/site-packages/numpy/f2py/src/fortranobject.h -> /tmp/tmpjghwrek6/src.linux-x86_64-3.6\u001b[0m\n",
      "\u001b[39mbuild_src: building npy-pkg config files\u001b[0m\n",
      "\u001b[39mrunning build_ext\u001b[0m\n",
      "\u001b[39mcustomize UnixCCompiler\u001b[0m\n",
      "\u001b[39mcustomize UnixCCompiler using build_ext\u001b[0m\n",
      "\u001b[39mcustomize Gnu95FCompiler\u001b[0m\n",
      "\u001b[39mFound executable /usr/bin/gfortran\u001b[0m\n",
      "\u001b[39mcustomize Gnu95FCompiler\u001b[0m\n",
      "\u001b[39mcustomize Gnu95FCompiler using build_ext\u001b[0m\n",
      "\u001b[39mbuilding 'simple' extension\u001b[0m\n",
      "\u001b[39mcompiling C sources\u001b[0m\n",
      "\u001b[39mC compiler: gcc -pthread -Wsign-compare -DNDEBUG -g -fwrapv -O3 -Wall -Wstrict-prototypes -fPIC\n",
      "\u001b[0m\n",
      "\u001b[39mcreating /tmp/tmpjghwrek6/tmp\u001b[0m\n",
      "\u001b[39mcreating /tmp/tmpjghwrek6/tmp/tmpjghwrek6\u001b[0m\n",
      "\u001b[39mcreating /tmp/tmpjghwrek6/tmp/tmpjghwrek6/src.linux-x86_64-3.6\u001b[0m\n",
      "\u001b[39mcompile options: '-I/tmp/tmpjghwrek6/src.linux-x86_64-3.6 -I/sw/pkg/anaconda/anaconda3-4.4.0/lib/python3.6/site-packages/numpy/core/include -I/sw/pkg/anaconda/anaconda3-4.4.0/include/python3.6m -c'\u001b[0m\n",
      "\u001b[39mgcc: /tmp/tmpjghwrek6/src.linux-x86_64-3.6/simplemodule.c\u001b[0m\n",
      "In file included from /sw/pkg/anaconda/anaconda3-4.4.0/lib/python3.6/site-packages/numpy/core/include/numpy/ndarraytypes.h:1788:0,\n",
      "                 from /sw/pkg/anaconda/anaconda3-4.4.0/lib/python3.6/site-packages/numpy/core/include/numpy/ndarrayobject.h:18,\n",
      "                 from /sw/pkg/anaconda/anaconda3-4.4.0/lib/python3.6/site-packages/numpy/core/include/numpy/arrayobject.h:4,\n",
      "                 from /tmp/tmpjghwrek6/src.linux-x86_64-3.6/fortranobject.h:13,\n",
      "                 from /tmp/tmpjghwrek6/src.linux-x86_64-3.6/simplemodule.c:18:\n",
      "/sw/pkg/anaconda/anaconda3-4.4.0/lib/python3.6/site-packages/numpy/core/include/numpy/npy_1_7_deprecated_api.h:15:2: warning: #warning \"Using deprecated NumPy API, disable it by \" \"#defining NPY_NO_DEPRECATED_API NPY_1_7_API_VERSION\" [-Wcpp]\n",
      " #warning \"Using deprecated NumPy API, disable it by \" \\\n",
      "  ^\n",
      "\u001b[39mgcc: /tmp/tmpjghwrek6/src.linux-x86_64-3.6/fortranobject.c\u001b[0m\n",
      "In file included from /sw/pkg/anaconda/anaconda3-4.4.0/lib/python3.6/site-packages/numpy/core/include/numpy/ndarraytypes.h:1788:0,\n",
      "                 from /sw/pkg/anaconda/anaconda3-4.4.0/lib/python3.6/site-packages/numpy/core/include/numpy/ndarrayobject.h:18,\n",
      "                 from /sw/pkg/anaconda/anaconda3-4.4.0/lib/python3.6/site-packages/numpy/core/include/numpy/arrayobject.h:4,\n",
      "                 from /tmp/tmpjghwrek6/src.linux-x86_64-3.6/fortranobject.h:13,\n",
      "                 from /tmp/tmpjghwrek6/src.linux-x86_64-3.6/fortranobject.c:2:\n",
      "/sw/pkg/anaconda/anaconda3-4.4.0/lib/python3.6/site-packages/numpy/core/include/numpy/npy_1_7_deprecated_api.h:15:2: warning: #warning \"Using deprecated NumPy API, disable it by \" \"#defining NPY_NO_DEPRECATED_API NPY_1_7_API_VERSION\" [-Wcpp]\n",
      " #warning \"Using deprecated NumPy API, disable it by \" \\\n",
      "  ^\n",
      "/tmp/tmpjghwrek6/src.linux-x86_64-3.6/fortranobject.c: In function ‘format_def’:\n",
      "/tmp/tmpjghwrek6/src.linux-x86_64-3.6/fortranobject.c:139:18: warning: comparison between signed and unsigned integer expressions [-Wsign-compare]\n",
      "         if (size < sizeof(notalloc)) {\n",
      "                  ^\n",
      "\u001b[39mcompiling Fortran sources\u001b[0m\n",
      "\u001b[39mFortran f77 compiler: /usr/bin/gfortran -Wall -g -ffixed-form -fno-second-underscore -fPIC -O3 -funroll-loops\n",
      "Fortran f90 compiler: /usr/bin/gfortran -Wall -g -fno-second-underscore -fPIC -O3 -funroll-loops\n",
      "Fortran fix compiler: /usr/bin/gfortran -Wall -g -ffixed-form -fno-second-underscore -Wall -g -fno-second-underscore -fPIC -O3 -funroll-loops\u001b[0m\n",
      "\u001b[39mcompile options: '-I/tmp/tmpjghwrek6/src.linux-x86_64-3.6 -I/sw/pkg/anaconda/anaconda3-4.4.0/lib/python3.6/site-packages/numpy/core/include -I/sw/pkg/anaconda/anaconda3-4.4.0/include/python3.6m -c'\u001b[0m\n",
      "\u001b[39mgfortran:f90: simple.f90\u001b[0m\n",
      "simple.f90:3.1:\n",
      "\n",
      " real, intent(in) :: a, b\n",
      " 1\n",
      "Warning: Nonconforming tab character at (1)\n",
      "simple.f90:4.1:\n",
      "\n",
      " real, intent(out) :: c\n",
      " 1\n",
      "Warning: Nonconforming tab character at (1)\n",
      "simple.f90:6.1:\n",
      "\n",
      " c = a + b\n",
      " 1\n",
      "Warning: Nonconforming tab character at (1)\n",
      "\u001b[39m/usr/bin/gfortran -Wall -g -Wall -g -shared /tmp/tmpjghwrek6/tmp/tmpjghwrek6/src.linux-x86_64-3.6/simplemodule.o /tmp/tmpjghwrek6/tmp/tmpjghwrek6/src.linux-x86_64-3.6/fortranobject.o /tmp/tmpjghwrek6/simple.o -L/sw/pkg/anaconda/anaconda3-4.4.0/lib -lpython3.6m -lgfortran -o ./simple.cpython-36m-x86_64-linux-gnu.so\u001b[0m\n",
      "Removing build directory /tmp/tmpjghwrek6\n"
     ]
    }
   ],
   "source": [
    "!f2py -m simple -c simple.f90"
   ]
  },
  {
   "cell_type": "markdown",
   "metadata": {},
   "source": [
    "Import module in Python and print generated documentation"
   ]
  },
  {
   "cell_type": "code",
   "execution_count": 18,
   "metadata": {},
   "outputs": [
    {
     "name": "stdout",
     "output_type": "stream",
     "text": [
      "This module 'simple' is auto-generated with f2py (version:2).\n",
      "Functions:\n",
      "  c = simple(a,b)\n",
      ".\n"
     ]
    }
   ],
   "source": [
    "import simple\n",
    "print(simple.__doc__)"
   ]
  },
  {
   "cell_type": "code",
   "execution_count": 19,
   "metadata": {},
   "outputs": [
    {
     "name": "stdout",
     "output_type": "stream",
     "text": [
      "c = simple(a,b)\n",
      "\n",
      "Wrapper for ``simple``.\n",
      "\n",
      "Parameters\n",
      "----------\n",
      "a : input float\n",
      "b : input float\n",
      "\n",
      "Returns\n",
      "-------\n",
      "c : float\n",
      "\n"
     ]
    }
   ],
   "source": [
    "print(simple.simple.__doc__)"
   ]
  },
  {
   "cell_type": "markdown",
   "metadata": {},
   "source": [
    "Execute code in extension module"
   ]
  },
  {
   "cell_type": "code",
   "execution_count": 20,
   "metadata": {},
   "outputs": [
    {
     "name": "stdout",
     "output_type": "stream",
     "text": [
      "84.0\n"
     ]
    }
   ],
   "source": [
    "a = 42\n",
    "b = 42\n",
    "c = simple.simple(a, b)\n",
    "print(c)"
   ]
  },
  {
   "cell_type": "markdown",
   "metadata": {},
   "source": [
    "# Example 2 - arr1.f90"
   ]
  },
  {
   "cell_type": "markdown",
   "metadata": {},
   "source": [
    "```fortran\n",
    "! A[r,s] * B[s,t] = C[r,t]\n",
    "subroutine matrix_multiply(A,r,s,B,t,C)\n",
    "\tinteger :: r, s, t\n",
    "\treal, intent(in) :: A(r,s)\n",
    "\treal, intent(in) :: B(s,t)\n",
    "\treal, intent(out) :: C(r,t)\n",
    "\n",
    "\tC = matmul(A,B)\n",
    "end subroutine matrix_multiply\n",
    "```"
   ]
  },
  {
   "cell_type": "code",
   "execution_count": 21,
   "metadata": {},
   "outputs": [
    {
     "name": "stdout",
     "output_type": "stream",
     "text": [
      "\u001b[39mrunning build\u001b[0m\n",
      "\u001b[39mrunning config_cc\u001b[0m\n",
      "\u001b[39munifing config_cc, config, build_clib, build_ext, build commands --compiler options\u001b[0m\n",
      "\u001b[39mrunning config_fc\u001b[0m\n",
      "\u001b[39munifing config_fc, config, build_clib, build_ext, build commands --fcompiler options\u001b[0m\n",
      "\u001b[39mrunning build_src\u001b[0m\n",
      "\u001b[39mbuild_src\u001b[0m\n",
      "\u001b[39mbuilding extension \"arr1\" sources\u001b[0m\n",
      "\u001b[39mf2py options: []\u001b[0m\n",
      "\u001b[39mf2py:> /tmp/tmpqayrf96_/src.linux-x86_64-3.6/arr1module.c\u001b[0m\n",
      "\u001b[39mcreating /tmp/tmpqayrf96_/src.linux-x86_64-3.6\u001b[0m\n",
      "Reading fortran codes...\n",
      "\tReading file 'arr1.f90' (format:free)\n",
      "Post-processing...\n",
      "\tBlock: arr1\n",
      "\t\t\tBlock: matrix_multiply\n",
      "Post-processing (stage 2)...\n",
      "Building modules...\n",
      "\tBuilding module \"arr1\"...\n",
      "\t\tConstructing wrapper function \"matrix_multiply\"...\n",
      "\t\t  c = matrix_multiply(a,b,[r,s,t])\n",
      "\tWrote C/API module \"arr1\" to file \"/tmp/tmpqayrf96_/src.linux-x86_64-3.6/arr1module.c\"\n",
      "\u001b[39m  adding '/tmp/tmpqayrf96_/src.linux-x86_64-3.6/fortranobject.c' to sources.\u001b[0m\n",
      "\u001b[39m  adding '/tmp/tmpqayrf96_/src.linux-x86_64-3.6' to include_dirs.\u001b[0m\n",
      "\u001b[39mcopying /sw/pkg/anaconda/anaconda3-4.4.0/lib/python3.6/site-packages/numpy/f2py/src/fortranobject.c -> /tmp/tmpqayrf96_/src.linux-x86_64-3.6\u001b[0m\n",
      "\u001b[39mcopying /sw/pkg/anaconda/anaconda3-4.4.0/lib/python3.6/site-packages/numpy/f2py/src/fortranobject.h -> /tmp/tmpqayrf96_/src.linux-x86_64-3.6\u001b[0m\n",
      "\u001b[39mbuild_src: building npy-pkg config files\u001b[0m\n",
      "\u001b[39mrunning build_ext\u001b[0m\n",
      "\u001b[39mcustomize UnixCCompiler\u001b[0m\n",
      "\u001b[39mcustomize UnixCCompiler using build_ext\u001b[0m\n",
      "\u001b[39mcustomize Gnu95FCompiler\u001b[0m\n",
      "\u001b[39mFound executable /usr/bin/gfortran\u001b[0m\n",
      "\u001b[39mcustomize Gnu95FCompiler\u001b[0m\n",
      "\u001b[39mcustomize Gnu95FCompiler using build_ext\u001b[0m\n",
      "\u001b[39mbuilding 'arr1' extension\u001b[0m\n",
      "\u001b[39mcompiling C sources\u001b[0m\n",
      "\u001b[39mC compiler: gcc -pthread -Wsign-compare -DNDEBUG -g -fwrapv -O3 -Wall -Wstrict-prototypes -fPIC\n",
      "\u001b[0m\n",
      "\u001b[39mcreating /tmp/tmpqayrf96_/tmp\u001b[0m\n",
      "\u001b[39mcreating /tmp/tmpqayrf96_/tmp/tmpqayrf96_\u001b[0m\n",
      "\u001b[39mcreating /tmp/tmpqayrf96_/tmp/tmpqayrf96_/src.linux-x86_64-3.6\u001b[0m\n",
      "\u001b[39mcompile options: '-I/tmp/tmpqayrf96_/src.linux-x86_64-3.6 -I/sw/pkg/anaconda/anaconda3-4.4.0/lib/python3.6/site-packages/numpy/core/include -I/sw/pkg/anaconda/anaconda3-4.4.0/include/python3.6m -c'\u001b[0m\n",
      "\u001b[39mgcc: /tmp/tmpqayrf96_/src.linux-x86_64-3.6/arr1module.c\u001b[0m\n",
      "In file included from /sw/pkg/anaconda/anaconda3-4.4.0/lib/python3.6/site-packages/numpy/core/include/numpy/ndarraytypes.h:1788:0,\n",
      "                 from /sw/pkg/anaconda/anaconda3-4.4.0/lib/python3.6/site-packages/numpy/core/include/numpy/ndarrayobject.h:18,\n",
      "                 from /sw/pkg/anaconda/anaconda3-4.4.0/lib/python3.6/site-packages/numpy/core/include/numpy/arrayobject.h:4,\n",
      "                 from /tmp/tmpqayrf96_/src.linux-x86_64-3.6/fortranobject.h:13,\n",
      "                 from /tmp/tmpqayrf96_/src.linux-x86_64-3.6/arr1module.c:19:\n",
      "/sw/pkg/anaconda/anaconda3-4.4.0/lib/python3.6/site-packages/numpy/core/include/numpy/npy_1_7_deprecated_api.h:15:2: warning: #warning \"Using deprecated NumPy API, disable it by \" \"#defining NPY_NO_DEPRECATED_API NPY_1_7_API_VERSION\" [-Wcpp]\n",
      " #warning \"Using deprecated NumPy API, disable it by \" \\\n",
      "  ^\n",
      "/tmp/tmpqayrf96_/src.linux-x86_64-3.6/arr1module.c:112:12: warning: ‘f2py_size’ defined but not used [-Wunused-function]\n",
      " static int f2py_size(PyArrayObject* var, ...)\n",
      "            ^\n",
      "\u001b[39mgcc: /tmp/tmpqayrf96_/src.linux-x86_64-3.6/fortranobject.c\u001b[0m\n",
      "In file included from /sw/pkg/anaconda/anaconda3-4.4.0/lib/python3.6/site-packages/numpy/core/include/numpy/ndarraytypes.h:1788:0,\n",
      "                 from /sw/pkg/anaconda/anaconda3-4.4.0/lib/python3.6/site-packages/numpy/core/include/numpy/ndarrayobject.h:18,\n",
      "                 from /sw/pkg/anaconda/anaconda3-4.4.0/lib/python3.6/site-packages/numpy/core/include/numpy/arrayobject.h:4,\n",
      "                 from /tmp/tmpqayrf96_/src.linux-x86_64-3.6/fortranobject.h:13,\n",
      "                 from /tmp/tmpqayrf96_/src.linux-x86_64-3.6/fortranobject.c:2:\n",
      "/sw/pkg/anaconda/anaconda3-4.4.0/lib/python3.6/site-packages/numpy/core/include/numpy/npy_1_7_deprecated_api.h:15:2: warning: #warning \"Using deprecated NumPy API, disable it by \" \"#defining NPY_NO_DEPRECATED_API NPY_1_7_API_VERSION\" [-Wcpp]\n",
      " #warning \"Using deprecated NumPy API, disable it by \" \\\n",
      "  ^\n",
      "/tmp/tmpqayrf96_/src.linux-x86_64-3.6/fortranobject.c: In function ‘format_def’:\n",
      "/tmp/tmpqayrf96_/src.linux-x86_64-3.6/fortranobject.c:139:18: warning: comparison between signed and unsigned integer expressions [-Wsign-compare]\n",
      "         if (size < sizeof(notalloc)) {\n",
      "                  ^\n",
      "\u001b[39mcompiling Fortran sources\u001b[0m\n",
      "\u001b[39mFortran f77 compiler: /usr/bin/gfortran -Wall -g -ffixed-form -fno-second-underscore -fPIC -O3 -funroll-loops\n",
      "Fortran f90 compiler: /usr/bin/gfortran -Wall -g -fno-second-underscore -fPIC -O3 -funroll-loops\n",
      "Fortran fix compiler: /usr/bin/gfortran -Wall -g -ffixed-form -fno-second-underscore -Wall -g -fno-second-underscore -fPIC -O3 -funroll-loops\u001b[0m\n",
      "\u001b[39mcompile options: '-I/tmp/tmpqayrf96_/src.linux-x86_64-3.6 -I/sw/pkg/anaconda/anaconda3-4.4.0/lib/python3.6/site-packages/numpy/core/include -I/sw/pkg/anaconda/anaconda3-4.4.0/include/python3.6m -c'\u001b[0m\n",
      "\u001b[39mgfortran:f90: arr1.f90\u001b[0m\n",
      "arr1.f90:3.1:\n",
      "\n",
      " integer :: r, s, t\n",
      " 1\n",
      "Warning: Nonconforming tab character at (1)\n",
      "arr1.f90:4.1:\n",
      "\n",
      " real, intent(in) :: A(r,s)\n",
      " 1\n",
      "Warning: Nonconforming tab character at (1)\n",
      "arr1.f90:5.1:\n",
      "\n",
      " real, intent(in) :: B(s,t)\n",
      " 1\n",
      "Warning: Nonconforming tab character at (1)\n",
      "arr1.f90:6.1:\n",
      "\n",
      " real, intent(out) :: C(r,t)\n",
      " 1\n",
      "Warning: Nonconforming tab character at (1)\n",
      "arr1.f90:8.1:\n",
      "\n",
      " C = matmul(A,B)\n",
      " 1\n",
      "Warning: Nonconforming tab character at (1)\n",
      "\u001b[39m/usr/bin/gfortran -Wall -g -Wall -g -shared /tmp/tmpqayrf96_/tmp/tmpqayrf96_/src.linux-x86_64-3.6/arr1module.o /tmp/tmpqayrf96_/tmp/tmpqayrf96_/src.linux-x86_64-3.6/fortranobject.o /tmp/tmpqayrf96_/arr1.o -L/sw/pkg/anaconda/anaconda3-4.4.0/lib -lpython3.6m -lgfortran -o ./arr1.cpython-36m-x86_64-linux-gnu.so\u001b[0m\n",
      "Removing build directory /tmp/tmpqayrf96_\n"
     ]
    }
   ],
   "source": [
    "!f2py -m arr1 -c arr1.f90"
   ]
  },
  {
   "cell_type": "code",
   "execution_count": 22,
   "metadata": {},
   "outputs": [
    {
     "name": "stdout",
     "output_type": "stream",
     "text": [
      "This module 'arr1' is auto-generated with f2py (version:2).\n",
      "Functions:\n",
      "  c = matrix_multiply(a,b,r=shape(a,0),s=shape(a,1),t=shape(b,1))\n",
      ".\n"
     ]
    }
   ],
   "source": [
    "import arr1\n",
    "print(arr1.__doc__)"
   ]
  },
  {
   "cell_type": "code",
   "execution_count": 23,
   "metadata": {},
   "outputs": [
    {
     "name": "stdout",
     "output_type": "stream",
     "text": [
      "c = matrix_multiply(a,b,[r,s,t])\n",
      "\n",
      "Wrapper for ``matrix_multiply``.\n",
      "\n",
      "Parameters\n",
      "----------\n",
      "a : input rank-2 array('f') with bounds (r,s)\n",
      "b : input rank-2 array('f') with bounds (s,t)\n",
      "\n",
      "Other Parameters\n",
      "----------------\n",
      "r : input int, optional\n",
      "    Default: shape(a,0)\n",
      "s : input int, optional\n",
      "    Default: shape(a,1)\n",
      "t : input int, optional\n",
      "    Default: shape(b,1)\n",
      "\n",
      "Returns\n",
      "-------\n",
      "c : rank-2 array('f') with bounds (r,t)\n",
      "\n"
     ]
    }
   ],
   "source": [
    "print(arr1.matrix_multiply.__doc__)"
   ]
  },
  {
   "cell_type": "code",
   "execution_count": 24,
   "metadata": {},
   "outputs": [
    {
     "name": "stdout",
     "output_type": "stream",
     "text": [
      "id of C before multiply = 47003918278784\n",
      "id of C after multiply = 47003918236528\n",
      "[[ 1200.  1200.  1200.  1200.  1200.  1200.]\n",
      " [ 1200.  1200.  1200.  1200.  1200.  1200.]\n",
      " [ 1200.  1200.  1200.  1200.  1200.  1200.]\n",
      " [ 1200.  1200.  1200.  1200.  1200.  1200.]\n",
      " [ 1200.  1200.  1200.  1200.  1200.  1200.]\n",
      " [ 1200.  1200.  1200.  1200.  1200.  1200.]]\n"
     ]
    }
   ],
   "source": [
    "import numpy as np\n",
    "\n",
    "A = np.ones((6,6), 'f', order='F') * 10.0\n",
    "B = np.ones((6,6), 'f', order='F') * 20.0\n",
    "C = np.zeros((6,6), 'f', order='F')\n",
    "\n",
    "print(\"id of C before multiply =\",id(C))\n",
    "\n",
    "C = arr1.matrix_multiply(A, B)\n",
    "\n",
    "print(\"id of C after multiply =\",id(C))\n",
    "\n",
    "print(C)"
   ]
  },
  {
   "cell_type": "markdown",
   "metadata": {},
   "source": [
    "# Example 3 - arr2.f90"
   ]
  },
  {
   "cell_type": "markdown",
   "metadata": {},
   "source": [
    "```fortran\n",
    "! A[r,s] * B[s,t] = C[r,t]\n",
    "subroutine matrix_multiply2(A,r,s,B,t,C)\n",
    "\tinteger :: r, s, t\n",
    "\treal, intent(in) :: A(r,s)\n",
    "\treal, intent(in) :: B(s,t)\n",
    "\treal, intent(inout) :: C(r,t)\n",
    "\n",
    "\tC = matmul(A,B)\n",
    "end subroutine matrix_multiply2\n",
    "```"
   ]
  },
  {
   "cell_type": "code",
   "execution_count": 25,
   "metadata": {},
   "outputs": [
    {
     "name": "stdout",
     "output_type": "stream",
     "text": [
      "\u001b[39mrunning build\u001b[0m\n",
      "\u001b[39mrunning config_cc\u001b[0m\n",
      "\u001b[39munifing config_cc, config, build_clib, build_ext, build commands --compiler options\u001b[0m\n",
      "\u001b[39mrunning config_fc\u001b[0m\n",
      "\u001b[39munifing config_fc, config, build_clib, build_ext, build commands --fcompiler options\u001b[0m\n",
      "\u001b[39mrunning build_src\u001b[0m\n",
      "\u001b[39mbuild_src\u001b[0m\n",
      "\u001b[39mbuilding extension \"arr2\" sources\u001b[0m\n",
      "\u001b[39mf2py options: []\u001b[0m\n",
      "\u001b[39mf2py:> /tmp/tmpvuol7s4v/src.linux-x86_64-3.6/arr2module.c\u001b[0m\n",
      "\u001b[39mcreating /tmp/tmpvuol7s4v/src.linux-x86_64-3.6\u001b[0m\n",
      "Reading fortran codes...\n",
      "\tReading file 'arr2.f90' (format:free)\n",
      "Post-processing...\n",
      "\tBlock: arr2\n",
      "\t\t\tBlock: matrix_multiply2\n",
      "Post-processing (stage 2)...\n",
      "Building modules...\n",
      "\tBuilding module \"arr2\"...\n",
      "\t\tConstructing wrapper function \"matrix_multiply2\"...\n",
      "\t\t  matrix_multiply2(a,b,c,[r,s,t])\n",
      "\tWrote C/API module \"arr2\" to file \"/tmp/tmpvuol7s4v/src.linux-x86_64-3.6/arr2module.c\"\n",
      "\u001b[39m  adding '/tmp/tmpvuol7s4v/src.linux-x86_64-3.6/fortranobject.c' to sources.\u001b[0m\n",
      "\u001b[39m  adding '/tmp/tmpvuol7s4v/src.linux-x86_64-3.6' to include_dirs.\u001b[0m\n",
      "\u001b[39mcopying /sw/pkg/anaconda/anaconda3-4.4.0/lib/python3.6/site-packages/numpy/f2py/src/fortranobject.c -> /tmp/tmpvuol7s4v/src.linux-x86_64-3.6\u001b[0m\n",
      "\u001b[39mcopying /sw/pkg/anaconda/anaconda3-4.4.0/lib/python3.6/site-packages/numpy/f2py/src/fortranobject.h -> /tmp/tmpvuol7s4v/src.linux-x86_64-3.6\u001b[0m\n",
      "\u001b[39mbuild_src: building npy-pkg config files\u001b[0m\n",
      "\u001b[39mrunning build_ext\u001b[0m\n",
      "\u001b[39mcustomize UnixCCompiler\u001b[0m\n",
      "\u001b[39mcustomize UnixCCompiler using build_ext\u001b[0m\n",
      "\u001b[39mcustomize Gnu95FCompiler\u001b[0m\n",
      "\u001b[39mFound executable /usr/bin/gfortran\u001b[0m\n",
      "\u001b[39mcustomize Gnu95FCompiler\u001b[0m\n",
      "\u001b[39mcustomize Gnu95FCompiler using build_ext\u001b[0m\n",
      "\u001b[39mbuilding 'arr2' extension\u001b[0m\n",
      "\u001b[39mcompiling C sources\u001b[0m\n",
      "\u001b[39mC compiler: gcc -pthread -Wsign-compare -DNDEBUG -g -fwrapv -O3 -Wall -Wstrict-prototypes -fPIC\n",
      "\u001b[0m\n",
      "\u001b[39mcreating /tmp/tmpvuol7s4v/tmp\u001b[0m\n",
      "\u001b[39mcreating /tmp/tmpvuol7s4v/tmp/tmpvuol7s4v\u001b[0m\n",
      "\u001b[39mcreating /tmp/tmpvuol7s4v/tmp/tmpvuol7s4v/src.linux-x86_64-3.6\u001b[0m\n",
      "\u001b[39mcompile options: '-I/tmp/tmpvuol7s4v/src.linux-x86_64-3.6 -I/sw/pkg/anaconda/anaconda3-4.4.0/lib/python3.6/site-packages/numpy/core/include -I/sw/pkg/anaconda/anaconda3-4.4.0/include/python3.6m -c'\u001b[0m\n",
      "\u001b[39mgcc: /tmp/tmpvuol7s4v/src.linux-x86_64-3.6/arr2module.c\u001b[0m\n",
      "In file included from /sw/pkg/anaconda/anaconda3-4.4.0/lib/python3.6/site-packages/numpy/core/include/numpy/ndarraytypes.h:1788:0,\n",
      "                 from /sw/pkg/anaconda/anaconda3-4.4.0/lib/python3.6/site-packages/numpy/core/include/numpy/ndarrayobject.h:18,\n",
      "                 from /sw/pkg/anaconda/anaconda3-4.4.0/lib/python3.6/site-packages/numpy/core/include/numpy/arrayobject.h:4,\n",
      "                 from /tmp/tmpvuol7s4v/src.linux-x86_64-3.6/fortranobject.h:13,\n",
      "                 from /tmp/tmpvuol7s4v/src.linux-x86_64-3.6/arr2module.c:19:\n",
      "/sw/pkg/anaconda/anaconda3-4.4.0/lib/python3.6/site-packages/numpy/core/include/numpy/npy_1_7_deprecated_api.h:15:2: warning: #warning \"Using deprecated NumPy API, disable it by \" \"#defining NPY_NO_DEPRECATED_API NPY_1_7_API_VERSION\" [-Wcpp]\n",
      " #warning \"Using deprecated NumPy API, disable it by \" \\\n",
      "  ^\n",
      "/tmp/tmpvuol7s4v/src.linux-x86_64-3.6/arr2module.c:112:12: warning: ‘f2py_size’ defined but not used [-Wunused-function]\n",
      " static int f2py_size(PyArrayObject* var, ...)\n",
      "            ^\n",
      "\u001b[39mgcc: /tmp/tmpvuol7s4v/src.linux-x86_64-3.6/fortranobject.c\u001b[0m\n",
      "In file included from /sw/pkg/anaconda/anaconda3-4.4.0/lib/python3.6/site-packages/numpy/core/include/numpy/ndarraytypes.h:1788:0,\n",
      "                 from /sw/pkg/anaconda/anaconda3-4.4.0/lib/python3.6/site-packages/numpy/core/include/numpy/ndarrayobject.h:18,\n",
      "                 from /sw/pkg/anaconda/anaconda3-4.4.0/lib/python3.6/site-packages/numpy/core/include/numpy/arrayobject.h:4,\n",
      "                 from /tmp/tmpvuol7s4v/src.linux-x86_64-3.6/fortranobject.h:13,\n",
      "                 from /tmp/tmpvuol7s4v/src.linux-x86_64-3.6/fortranobject.c:2:\n",
      "/sw/pkg/anaconda/anaconda3-4.4.0/lib/python3.6/site-packages/numpy/core/include/numpy/npy_1_7_deprecated_api.h:15:2: warning: #warning \"Using deprecated NumPy API, disable it by \" \"#defining NPY_NO_DEPRECATED_API NPY_1_7_API_VERSION\" [-Wcpp]\n",
      " #warning \"Using deprecated NumPy API, disable it by \" \\\n",
      "  ^\n",
      "/tmp/tmpvuol7s4v/src.linux-x86_64-3.6/fortranobject.c: In function ‘format_def’:\n",
      "/tmp/tmpvuol7s4v/src.linux-x86_64-3.6/fortranobject.c:139:18: warning: comparison between signed and unsigned integer expressions [-Wsign-compare]\n",
      "         if (size < sizeof(notalloc)) {\n",
      "                  ^\n",
      "\u001b[39mcompiling Fortran sources\u001b[0m\n",
      "\u001b[39mFortran f77 compiler: /usr/bin/gfortran -Wall -g -ffixed-form -fno-second-underscore -fPIC -O3 -funroll-loops\n",
      "Fortran f90 compiler: /usr/bin/gfortran -Wall -g -fno-second-underscore -fPIC -O3 -funroll-loops\n",
      "Fortran fix compiler: /usr/bin/gfortran -Wall -g -ffixed-form -fno-second-underscore -Wall -g -fno-second-underscore -fPIC -O3 -funroll-loops\u001b[0m\n",
      "\u001b[39mcompile options: '-I/tmp/tmpvuol7s4v/src.linux-x86_64-3.6 -I/sw/pkg/anaconda/anaconda3-4.4.0/lib/python3.6/site-packages/numpy/core/include -I/sw/pkg/anaconda/anaconda3-4.4.0/include/python3.6m -c'\u001b[0m\n",
      "\u001b[39mgfortran:f90: arr2.f90\u001b[0m\n",
      "arr2.f90:3.1:\n",
      "\n",
      " integer :: r, s, t\n",
      " 1\n",
      "Warning: Nonconforming tab character at (1)\n",
      "arr2.f90:4.1:\n",
      "\n",
      " real, intent(in) :: A(r,s)\n",
      " 1\n",
      "Warning: Nonconforming tab character at (1)\n",
      "arr2.f90:5.1:\n",
      "\n",
      " real, intent(in) :: B(s,t)\n",
      " 1\n",
      "Warning: Nonconforming tab character at (1)\n",
      "arr2.f90:6.1:\n",
      "\n",
      " real, intent(inout) :: C(r,t)\n",
      " 1\n",
      "Warning: Nonconforming tab character at (1)\n",
      "arr2.f90:8.1:\n",
      "\n",
      " C = matmul(A,B)\n",
      " 1\n",
      "Warning: Nonconforming tab character at (1)\n",
      "\u001b[39m/usr/bin/gfortran -Wall -g -Wall -g -shared /tmp/tmpvuol7s4v/tmp/tmpvuol7s4v/src.linux-x86_64-3.6/arr2module.o /tmp/tmpvuol7s4v/tmp/tmpvuol7s4v/src.linux-x86_64-3.6/fortranobject.o /tmp/tmpvuol7s4v/arr2.o -L/sw/pkg/anaconda/anaconda3-4.4.0/lib -lpython3.6m -lgfortran -o ./arr2.cpython-36m-x86_64-linux-gnu.so\u001b[0m\n",
      "Removing build directory /tmp/tmpvuol7s4v\n"
     ]
    }
   ],
   "source": [
    "!f2py -m arr2 -c arr2.f90"
   ]
  },
  {
   "cell_type": "code",
   "execution_count": 26,
   "metadata": {},
   "outputs": [
    {
     "name": "stdout",
     "output_type": "stream",
     "text": [
      "This module 'arr2' is auto-generated with f2py (version:2).\n",
      "Functions:\n",
      "  matrix_multiply2(a,b,c,r=shape(a,0),s=shape(a,1),t=shape(b,1))\n",
      ".\n"
     ]
    }
   ],
   "source": [
    "import arr2\n",
    "print(arr2.__doc__)"
   ]
  },
  {
   "cell_type": "code",
   "execution_count": 27,
   "metadata": {},
   "outputs": [
    {
     "name": "stdout",
     "output_type": "stream",
     "text": [
      "matrix_multiply2(a,b,c,[r,s,t])\n",
      "\n",
      "Wrapper for ``matrix_multiply2``.\n",
      "\n",
      "Parameters\n",
      "----------\n",
      "a : input rank-2 array('f') with bounds (r,s)\n",
      "b : input rank-2 array('f') with bounds (s,t)\n",
      "c : in/output rank-2 array('f') with bounds (r,t)\n",
      "\n",
      "Other Parameters\n",
      "----------------\n",
      "r : input int, optional\n",
      "    Default: shape(a,0)\n",
      "s : input int, optional\n",
      "    Default: shape(a,1)\n",
      "t : input int, optional\n",
      "    Default: shape(b,1)\n",
      "\n"
     ]
    }
   ],
   "source": [
    "print(arr2.matrix_multiply2.__doc__)"
   ]
  },
  {
   "cell_type": "code",
   "execution_count": 28,
   "metadata": {},
   "outputs": [
    {
     "name": "stdout",
     "output_type": "stream",
     "text": [
      "id of C before multiply = 47003918282304\n",
      "id of C after multiply = 47003918282304\n",
      "[[ 1200.  1200.  1200.  1200.  1200.  1200.]\n",
      " [ 1200.  1200.  1200.  1200.  1200.  1200.]\n",
      " [ 1200.  1200.  1200.  1200.  1200.  1200.]\n",
      " [ 1200.  1200.  1200.  1200.  1200.  1200.]\n",
      " [ 1200.  1200.  1200.  1200.  1200.  1200.]\n",
      " [ 1200.  1200.  1200.  1200.  1200.  1200.]]\n"
     ]
    }
   ],
   "source": [
    "A = np.ones((6,6), 'f', order='F') * 10.0\n",
    "B = np.ones((6,6), 'f', order='F') * 20.0\n",
    "C = np.zeros((6,6), 'f', order='F')\n",
    "\n",
    "print(\"id of C before multiply =\",id(C))\n",
    "\n",
    "arr2.matrix_multiply2(A, B, C)\n",
    "\n",
    "print(\"id of C after multiply =\",id(C))\n",
    "\n",
    "print(C)"
   ]
  },
  {
   "cell_type": "markdown",
   "metadata": {},
   "source": [
    "# Example 4 - matrix.f90"
   ]
  },
  {
   "cell_type": "markdown",
   "metadata": {},
   "source": [
    "```fortran\n",
    "module matrix\n",
    "\n",
    "contains\n",
    "\n",
    "! A[r,s] * B[s,t] = C[r,t]\n",
    "subroutine matrix_multiply(A,r,s,B,t,C)\n",
    "\tinteger :: r, s, t\n",
    "\treal, intent(in) :: A(r,s)\n",
    "\treal, intent(in) :: B(s,t)\n",
    "\treal, intent(out) :: C(r,t)\n",
    "\n",
    "\tC = matmul(A,B)\n",
    "end subroutine matrix_multiply\n",
    "\n",
    "! A[r,s] * B[s,t] = C[r,t]\n",
    "subroutine matrix_multiply2(A,r,s,B,t,C)\n",
    "        integer :: r, s, t\n",
    "        real, intent(in) :: A(r,s)\n",
    "        real, intent(in) :: B(s,t)\n",
    "        real, intent(inout) :: C(r,t)\n",
    "\n",
    "        C = matmul(A,B)\n",
    "end subroutine matrix_multiply2\n",
    "\n",
    "end module matrix\n",
    "```"
   ]
  },
  {
   "cell_type": "code",
   "execution_count": 29,
   "metadata": {},
   "outputs": [
    {
     "name": "stdout",
     "output_type": "stream",
     "text": [
      "\u001b[39mrunning build\u001b[0m\n",
      "\u001b[39mrunning config_cc\u001b[0m\n",
      "\u001b[39munifing config_cc, config, build_clib, build_ext, build commands --compiler options\u001b[0m\n",
      "\u001b[39mrunning config_fc\u001b[0m\n",
      "\u001b[39munifing config_fc, config, build_clib, build_ext, build commands --fcompiler options\u001b[0m\n",
      "\u001b[39mrunning build_src\u001b[0m\n",
      "\u001b[39mbuild_src\u001b[0m\n",
      "\u001b[39mbuilding extension \"matrix\" sources\u001b[0m\n",
      "\u001b[39mf2py options: []\u001b[0m\n",
      "\u001b[39mf2py:> /tmp/tmpygctrp50/src.linux-x86_64-3.6/matrixmodule.c\u001b[0m\n",
      "\u001b[39mcreating /tmp/tmpygctrp50/src.linux-x86_64-3.6\u001b[0m\n",
      "Reading fortran codes...\n",
      "\tReading file 'matrix.f90' (format:free)\n",
      "Post-processing...\n",
      "\tBlock: matrix\n",
      "\t\t\tBlock: matrix\n",
      "\t\t\t\tBlock: matrix_multiply\n",
      "\t\t\t\tBlock: matrix_multiply2\n",
      "Post-processing (stage 2)...\n",
      "\tBlock: matrix\n",
      "\t\tBlock: unknown_interface\n",
      "\t\t\tBlock: matrix\n",
      "\t\t\t\tBlock: matrix_multiply\n",
      "\t\t\t\tBlock: matrix_multiply2\n",
      "Building modules...\n",
      "\tBuilding module \"matrix\"...\n",
      "\t\tConstructing F90 module support for \"matrix\"...\n",
      "\t\t\tConstructing wrapper function \"matrix.matrix_multiply\"...\n",
      "\t\t\t  c = matrix_multiply(a,b,[r,s,t])\n",
      "\t\t\tConstructing wrapper function \"matrix.matrix_multiply2\"...\n",
      "\t\t\t  matrix_multiply2(a,b,c,[r,s,t])\n",
      "\tWrote C/API module \"matrix\" to file \"/tmp/tmpygctrp50/src.linux-x86_64-3.6/matrixmodule.c\"\n",
      "\tFortran 90 wrappers are saved to \"/tmp/tmpygctrp50/src.linux-x86_64-3.6/matrix-f2pywrappers2.f90\"\n",
      "\u001b[39m  adding '/tmp/tmpygctrp50/src.linux-x86_64-3.6/fortranobject.c' to sources.\u001b[0m\n",
      "\u001b[39m  adding '/tmp/tmpygctrp50/src.linux-x86_64-3.6' to include_dirs.\u001b[0m\n",
      "\u001b[39mcopying /sw/pkg/anaconda/anaconda3-4.4.0/lib/python3.6/site-packages/numpy/f2py/src/fortranobject.c -> /tmp/tmpygctrp50/src.linux-x86_64-3.6\u001b[0m\n",
      "\u001b[39mcopying /sw/pkg/anaconda/anaconda3-4.4.0/lib/python3.6/site-packages/numpy/f2py/src/fortranobject.h -> /tmp/tmpygctrp50/src.linux-x86_64-3.6\u001b[0m\n",
      "\u001b[39m  adding '/tmp/tmpygctrp50/src.linux-x86_64-3.6/matrix-f2pywrappers2.f90' to sources.\u001b[0m\n",
      "\u001b[39mbuild_src: building npy-pkg config files\u001b[0m\n",
      "\u001b[39mrunning build_ext\u001b[0m\n",
      "\u001b[39mcustomize UnixCCompiler\u001b[0m\n",
      "\u001b[39mcustomize UnixCCompiler using build_ext\u001b[0m\n",
      "\u001b[39mcustomize Gnu95FCompiler\u001b[0m\n",
      "\u001b[39mFound executable /usr/bin/gfortran\u001b[0m\n",
      "\u001b[39mcustomize Gnu95FCompiler\u001b[0m\n",
      "\u001b[39mcustomize Gnu95FCompiler using build_ext\u001b[0m\n",
      "\u001b[39mbuilding 'matrix' extension\u001b[0m\n",
      "\u001b[39mcompiling C sources\u001b[0m\n",
      "\u001b[39mC compiler: gcc -pthread -Wsign-compare -DNDEBUG -g -fwrapv -O3 -Wall -Wstrict-prototypes -fPIC\n",
      "\u001b[0m\n",
      "\u001b[39mcreating /tmp/tmpygctrp50/tmp\u001b[0m\n",
      "\u001b[39mcreating /tmp/tmpygctrp50/tmp/tmpygctrp50\u001b[0m\n",
      "\u001b[39mcreating /tmp/tmpygctrp50/tmp/tmpygctrp50/src.linux-x86_64-3.6\u001b[0m\n",
      "\u001b[39mcompile options: '-I/tmp/tmpygctrp50/src.linux-x86_64-3.6 -I/sw/pkg/anaconda/anaconda3-4.4.0/lib/python3.6/site-packages/numpy/core/include -I/sw/pkg/anaconda/anaconda3-4.4.0/include/python3.6m -c'\u001b[0m\n",
      "\u001b[39mgcc: /tmp/tmpygctrp50/src.linux-x86_64-3.6/matrixmodule.c\u001b[0m\n",
      "In file included from /sw/pkg/anaconda/anaconda3-4.4.0/lib/python3.6/site-packages/numpy/core/include/numpy/ndarraytypes.h:1788:0,\n",
      "                 from /sw/pkg/anaconda/anaconda3-4.4.0/lib/python3.6/site-packages/numpy/core/include/numpy/ndarrayobject.h:18,\n",
      "                 from /sw/pkg/anaconda/anaconda3-4.4.0/lib/python3.6/site-packages/numpy/core/include/numpy/arrayobject.h:4,\n",
      "                 from /tmp/tmpygctrp50/src.linux-x86_64-3.6/fortranobject.h:13,\n",
      "                 from /tmp/tmpygctrp50/src.linux-x86_64-3.6/matrixmodule.c:19:\n",
      "/sw/pkg/anaconda/anaconda3-4.4.0/lib/python3.6/site-packages/numpy/core/include/numpy/npy_1_7_deprecated_api.h:15:2: warning: #warning \"Using deprecated NumPy API, disable it by \" \"#defining NPY_NO_DEPRECATED_API NPY_1_7_API_VERSION\" [-Wcpp]\n",
      " #warning \"Using deprecated NumPy API, disable it by \" \\\n",
      "  ^\n",
      "/tmp/tmpygctrp50/src.linux-x86_64-3.6/matrixmodule.c:112:12: warning: ‘f2py_size’ defined but not used [-Wunused-function]\n",
      " static int f2py_size(PyArrayObject* var, ...)\n",
      "            ^\n",
      "\u001b[39mgcc: /tmp/tmpygctrp50/src.linux-x86_64-3.6/fortranobject.c\u001b[0m\n",
      "In file included from /sw/pkg/anaconda/anaconda3-4.4.0/lib/python3.6/site-packages/numpy/core/include/numpy/ndarraytypes.h:1788:0,\n",
      "                 from /sw/pkg/anaconda/anaconda3-4.4.0/lib/python3.6/site-packages/numpy/core/include/numpy/ndarrayobject.h:18,\n",
      "                 from /sw/pkg/anaconda/anaconda3-4.4.0/lib/python3.6/site-packages/numpy/core/include/numpy/arrayobject.h:4,\n",
      "                 from /tmp/tmpygctrp50/src.linux-x86_64-3.6/fortranobject.h:13,\n",
      "                 from /tmp/tmpygctrp50/src.linux-x86_64-3.6/fortranobject.c:2:\n",
      "/sw/pkg/anaconda/anaconda3-4.4.0/lib/python3.6/site-packages/numpy/core/include/numpy/npy_1_7_deprecated_api.h:15:2: warning: #warning \"Using deprecated NumPy API, disable it by \" \"#defining NPY_NO_DEPRECATED_API NPY_1_7_API_VERSION\" [-Wcpp]\n",
      " #warning \"Using deprecated NumPy API, disable it by \" \\\n",
      "  ^\n",
      "/tmp/tmpygctrp50/src.linux-x86_64-3.6/fortranobject.c: In function ‘format_def’:\n",
      "/tmp/tmpygctrp50/src.linux-x86_64-3.6/fortranobject.c:139:18: warning: comparison between signed and unsigned integer expressions [-Wsign-compare]\n",
      "         if (size < sizeof(notalloc)) {\n",
      "                  ^\n",
      "\u001b[39mcompiling Fortran 90 module sources\u001b[0m\n",
      "\u001b[39mFortran f77 compiler: /usr/bin/gfortran -Wall -g -ffixed-form -fno-second-underscore -fPIC -O3 -funroll-loops\n",
      "Fortran f90 compiler: /usr/bin/gfortran -Wall -g -fno-second-underscore -fPIC -O3 -funroll-loops\n",
      "Fortran fix compiler: /usr/bin/gfortran -Wall -g -ffixed-form -fno-second-underscore -Wall -g -fno-second-underscore -fPIC -O3 -funroll-loops\u001b[0m\n",
      "\u001b[39mcompile options: '-I/tmp/tmpygctrp50/src.linux-x86_64-3.6 -I/sw/pkg/anaconda/anaconda3-4.4.0/lib/python3.6/site-packages/numpy/core/include -I/sw/pkg/anaconda/anaconda3-4.4.0/include/python3.6m -c'\n",
      "extra options: '-J/tmp/tmpygctrp50/ -I/tmp/tmpygctrp50/'\u001b[0m\n",
      "\u001b[39mgfortran:f90: matrix.f90\u001b[0m\n",
      "matrix.f90:7.1:\n",
      "\n",
      " integer :: r, s, t\n",
      " 1\n",
      "Warning: Nonconforming tab character at (1)\n",
      "matrix.f90:8.1:\n",
      "\n",
      " real, intent(in) :: A(r,s)\n",
      " 1\n",
      "Warning: Nonconforming tab character at (1)\n",
      "matrix.f90:9.1:\n",
      "\n",
      " real, intent(in) :: B(s,t)\n",
      " 1\n",
      "Warning: Nonconforming tab character at (1)\n",
      "matrix.f90:10.1:\n",
      "\n",
      " real, intent(out) :: C(r,t)\n",
      " 1\n",
      "Warning: Nonconforming tab character at (1)\n",
      "matrix.f90:12.1:\n",
      "\n",
      " C = matmul(A,B)\n",
      " 1\n",
      "Warning: Nonconforming tab character at (1)\n",
      "\u001b[39mcompiling Fortran sources\u001b[0m\n",
      "\u001b[39mFortran f77 compiler: /usr/bin/gfortran -Wall -g -ffixed-form -fno-second-underscore -fPIC -O3 -funroll-loops\n",
      "Fortran f90 compiler: /usr/bin/gfortran -Wall -g -fno-second-underscore -fPIC -O3 -funroll-loops\n",
      "Fortran fix compiler: /usr/bin/gfortran -Wall -g -ffixed-form -fno-second-underscore -Wall -g -fno-second-underscore -fPIC -O3 -funroll-loops\u001b[0m\n",
      "\u001b[39mcompile options: '-I/tmp/tmpygctrp50/src.linux-x86_64-3.6 -I/sw/pkg/anaconda/anaconda3-4.4.0/lib/python3.6/site-packages/numpy/core/include -I/sw/pkg/anaconda/anaconda3-4.4.0/include/python3.6m -c'\n",
      "extra options: '-J/tmp/tmpygctrp50/ -I/tmp/tmpygctrp50/'\u001b[0m\n",
      "\u001b[39mgfortran:f90: /tmp/tmpygctrp50/src.linux-x86_64-3.6/matrix-f2pywrappers2.f90\u001b[0m\n",
      "\u001b[39m/usr/bin/gfortran -Wall -g -Wall -g -shared /tmp/tmpygctrp50/tmp/tmpygctrp50/src.linux-x86_64-3.6/matrixmodule.o /tmp/tmpygctrp50/tmp/tmpygctrp50/src.linux-x86_64-3.6/fortranobject.o /tmp/tmpygctrp50/matrix.o /tmp/tmpygctrp50/tmp/tmpygctrp50/src.linux-x86_64-3.6/matrix-f2pywrappers2.o -L/sw/pkg/anaconda/anaconda3-4.4.0/lib -lpython3.6m -lgfortran -o ./matrix.cpython-36m-x86_64-linux-gnu.so\u001b[0m\n",
      "Removing build directory /tmp/tmpygctrp50\n"
     ]
    }
   ],
   "source": [
    "!f2py -m matrix -c matrix.f90"
   ]
  },
  {
   "cell_type": "code",
   "execution_count": 30,
   "metadata": {},
   "outputs": [
    {
     "name": "stdout",
     "output_type": "stream",
     "text": [
      "This module 'matrix' is auto-generated with f2py (version:2).\n",
      "Functions:\n",
      "Fortran 90/95 modules:\n",
      "  matrix --- matrix_multiply(),matrix_multiply2().\n"
     ]
    }
   ],
   "source": [
    "import matrix\n",
    "print(matrix.__doc__)"
   ]
  },
  {
   "cell_type": "code",
   "execution_count": 31,
   "metadata": {},
   "outputs": [
    {
     "name": "stdout",
     "output_type": "stream",
     "text": [
      "c = matrix_multiply(a,b,[r,s,t])\n",
      "\n",
      "Wrapper for ``matrix_multiply``.\n",
      "\n",
      "Parameters\n",
      "----------\n",
      "a : input rank-2 array('f') with bounds (r,s)\n",
      "b : input rank-2 array('f') with bounds (s,t)\n",
      "\n",
      "Other Parameters\n",
      "----------------\n",
      "r : input int, optional\n",
      "    Default: shape(a,0)\n",
      "s : input int, optional\n",
      "    Default: shape(a,1)\n",
      "t : input int, optional\n",
      "    Default: shape(b,1)\n",
      "\n",
      "Returns\n",
      "-------\n",
      "c : rank-2 array('f') with bounds (r,t)\n",
      "matrix_multiply2(a,b,c,[r,s,t])\n",
      "\n",
      "Wrapper for ``matrix_multiply2``.\n",
      "\n",
      "Parameters\n",
      "----------\n",
      "a : input rank-2 array('f') with bounds (r,s)\n",
      "b : input rank-2 array('f') with bounds (s,t)\n",
      "c : in/output rank-2 array('f') with bounds (r,t)\n",
      "\n",
      "Other Parameters\n",
      "----------------\n",
      "r : input int, optional\n",
      "    Default: shape(a,0)\n",
      "s : input int, optional\n",
      "    Default: shape(a,1)\n",
      "t : input int, optional\n",
      "    Default: shape(b,1)\n",
      "\n"
     ]
    }
   ],
   "source": [
    "print(matrix.matrix.__doc__)"
   ]
  },
  {
   "cell_type": "markdown",
   "metadata": {},
   "source": [
    "Modules are better imported using the from * import statement"
   ]
  },
  {
   "cell_type": "code",
   "execution_count": 32,
   "metadata": {},
   "outputs": [],
   "source": [
    "del(matrix)"
   ]
  },
  {
   "cell_type": "code",
   "execution_count": 33,
   "metadata": {},
   "outputs": [],
   "source": [
    "from matrix import *"
   ]
  },
  {
   "cell_type": "code",
   "execution_count": null,
   "metadata": {},
   "outputs": [],
   "source": [
    "matrix.matrix_multiply2(A, B, C)\n",
    "print(C)"
   ]
  },
  {
   "cell_type": "code",
   "execution_count": null,
   "metadata": {
    "collapsed": true
   },
   "outputs": [],
   "source": []
  }
 ],
 "metadata": {
  "kernelspec": {
   "display_name": "Python 3",
   "language": "python",
   "name": "python3"
  },
  "language_info": {
   "codemirror_mode": {
    "name": "ipython",
    "version": 3
   },
   "file_extension": ".py",
   "mimetype": "text/x-python",
   "name": "python",
   "nbconvert_exporter": "python",
   "pygments_lexer": "ipython3",
   "version": "3.6.1"
  }
 },
 "nbformat": 4,
 "nbformat_minor": 2
}
